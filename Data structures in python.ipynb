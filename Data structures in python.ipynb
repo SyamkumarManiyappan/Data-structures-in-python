{
 "cells": [
  {
   "cell_type": "markdown",
   "id": "e54d7287-6be1-4e23-9901-45d4f9d7f8d1",
   "metadata": {},
   "source": [
    "## Topic :List\n",
    "Exercise\n",
    "Q1. Create a list of 5 random numbers and print the list.\n",
    "Q2. Insert 3 new values to the list and print the updated list.\n",
    "Q3. Try to use a for loop to print each element in the list."
   ]
  },
  {
   "cell_type": "code",
   "execution_count": 2,
   "id": "e78538a9-2b9f-474d-b969-887891941bf9",
   "metadata": {},
   "outputs": [
    {
     "name": "stdout",
     "output_type": "stream",
     "text": [
      "[9, 9, 8] <class 'list'>\n"
     ]
    }
   ],
   "source": [
    "import random\n",
    "List=[random.randint(1,10)for i in range(3)]\n",
    "print(List,type(List))"
   ]
  },
  {
   "cell_type": "code",
   "execution_count": 3,
   "id": "815eab75-5d18-427d-adbf-da23f97c92c0",
   "metadata": {},
   "outputs": [
    {
     "name": "stdout",
     "output_type": "stream",
     "text": [
      "Updated list  [9, 9, 8, 1, 3, 7]\n"
     ]
    }
   ],
   "source": [
    "N_List=[random.randint(1,10)for i in range(3)]\n",
    "List.extend(N_List)\n",
    "print('Updated list ',List)\n"
   ]
  },
  {
   "cell_type": "code",
   "execution_count": 4,
   "id": "49e4f2f7-9ca9-439b-83bd-7c33a8edeed5",
   "metadata": {},
   "outputs": [
    {
     "name": "stdout",
     "output_type": "stream",
     "text": [
      "998137"
     ]
    }
   ],
   "source": [
    "for element in List:\n",
    "    print(element,end=\"\")"
   ]
  },
  {
   "cell_type": "markdown",
   "id": "fd535308-92d0-4e6e-a02b-8b9504bffeff",
   "metadata": {},
   "source": [
    "## Topic: Dictionary\n",
    "Exercise \n",
    "Q1. Create a dictionary with keys 'name', 'age', and 'address' and values 'John', 25, and 'New York' respectively.\n",
    "Q2. Add a new key-value pair to the dictionary created in Q1 with key 'phone' and value '1234567890'."
   ]
  },
  {
   "cell_type": "code",
   "execution_count": 5,
   "id": "996a2ebe-e219-4322-8d1d-7afc88cc9fe5",
   "metadata": {},
   "outputs": [
    {
     "name": "stdout",
     "output_type": "stream",
     "text": [
      "{'name': 'John', 'age': 25, 'address': 'New York'}\n"
     ]
    }
   ],
   "source": [
    "personal_Details={'name':'John','age':25,'address':'New York'}\n",
    "print(personal_Details)\n"
   ]
  },
  {
   "cell_type": "code",
   "execution_count": 6,
   "id": "bfc599df-bdef-4887-951d-2ff1b76b46dc",
   "metadata": {},
   "outputs": [
    {
     "name": "stdout",
     "output_type": "stream",
     "text": [
      "{'name': 'John', 'age': 25, 'address': 'New York', 'phone': '1234567890'}\n"
     ]
    }
   ],
   "source": [
    "personal_Details['phone']='1234567890'\n",
    "print(personal_Details)"
   ]
  },
  {
   "cell_type": "markdown",
   "id": "8d719c76-2d54-4e09-82c1-1cd00932769a",
   "metadata": {},
   "source": [
    "## Topic: Set\n",
    "Exercise  \n",
    "Q1.Create a set with values 1, 2, 3, 4, and 5.\n",
    "Q2. Add the value 6 to the set created in Q1.\n",
    "Q3. Remove the value 3 from the set created in Q1."
   ]
  },
  {
   "cell_type": "code",
   "execution_count": 7,
   "id": "d0936caa-98f9-4d22-bfc6-e76a23c6bd8a",
   "metadata": {},
   "outputs": [
    {
     "name": "stdout",
     "output_type": "stream",
     "text": [
      "{1, 2, 3, 4, 5} <class 'set'>\n"
     ]
    }
   ],
   "source": [
    "s={1,2,3,4,5}\n",
    "print(s,type(s))\n"
   ]
  },
  {
   "cell_type": "code",
   "execution_count": 8,
   "id": "29a9e764-0fd0-4399-a9c7-62c2b2d663d0",
   "metadata": {},
   "outputs": [
    {
     "name": "stdout",
     "output_type": "stream",
     "text": [
      "{1, 2, 3, 4, 5, 6}\n"
     ]
    }
   ],
   "source": [
    "s.add(6)\n",
    "print(s)"
   ]
  },
  {
   "cell_type": "code",
   "execution_count": 9,
   "id": "b2f2f77b-6baa-479b-ad83-4a9b5b56240d",
   "metadata": {},
   "outputs": [
    {
     "name": "stdout",
     "output_type": "stream",
     "text": [
      "{1, 2, 4, 5, 6}\n"
     ]
    }
   ],
   "source": [
    "s.remove(3)\n",
    "print(s)"
   ]
  },
  {
   "cell_type": "markdown",
   "id": "81f7135d-d826-4f98-910b-eb53e1e2d2ac",
   "metadata": {},
   "source": [
    "\n",
    "## Topic:Tuple\n",
    "Exercise \n",
    "Q1. Create a tuple with values 1, 2, 3, and 4\n",
    "Q2. Print the length of the tuple created in Q1.\n"
   ]
  },
  {
   "cell_type": "code",
   "execution_count": 10,
   "id": "6f274e15-cc25-4b1b-a375-8fa70b2a8a14",
   "metadata": {},
   "outputs": [
    {
     "name": "stdout",
     "output_type": "stream",
     "text": [
      "(1, 2, 3, 4) <class 'tuple'>\n"
     ]
    }
   ],
   "source": [
    "t=1,2,3,4\n",
    "print(t,type(t))"
   ]
  },
  {
   "cell_type": "code",
   "execution_count": 11,
   "id": "2f2e6faf-427b-41d4-bb87-e82c580d3179",
   "metadata": {},
   "outputs": [
    {
     "name": "stdout",
     "output_type": "stream",
     "text": [
      "4\n"
     ]
    }
   ],
   "source": [
    "print(len(t))"
   ]
  },
  {
   "cell_type": "code",
   "execution_count": null,
   "id": "3de93938-c60c-476c-af94-7eb54e53cd39",
   "metadata": {},
   "outputs": [],
   "source": []
  }
 ],
 "metadata": {
  "kernelspec": {
   "display_name": "Python 3 (ipykernel)",
   "language": "python",
   "name": "python3"
  },
  "language_info": {
   "codemirror_mode": {
    "name": "ipython",
    "version": 3
   },
   "file_extension": ".py",
   "mimetype": "text/x-python",
   "name": "python",
   "nbconvert_exporter": "python",
   "pygments_lexer": "ipython3",
   "version": "3.12.7"
  }
 },
 "nbformat": 4,
 "nbformat_minor": 5
}
